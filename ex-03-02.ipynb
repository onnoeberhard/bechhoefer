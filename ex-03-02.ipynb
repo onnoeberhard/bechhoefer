{
 "cells": [
  {
   "cell_type": "code",
   "execution_count": 1,
   "id": "15fd0d3c-cdd0-48f7-a9bc-d6d0957093ab",
   "metadata": {},
   "outputs": [],
   "source": [
    "import numpy as np\n",
    "import matplotlib.pyplot as plt\n",
    "import ipywidgets as widgets\n",
    "import sympy as sp\n",
    "from ipywidgets import interact\n",
    "from oetils import init_plotting"
   ]
  },
  {
   "cell_type": "code",
   "execution_count": 2,
   "id": "53c5ad06-7042-4385-ad6c-1da2a847dd3c",
   "metadata": {},
   "outputs": [],
   "source": [
    "_ = init_plotting()"
   ]
  },
  {
   "cell_type": "markdown",
   "id": "f622bca3-3824-4ec0-bad8-c241c8d43dfd",
   "metadata": {},
   "source": [
    "---"
   ]
  },
  {
   "cell_type": "code",
   "execution_count": 3,
   "id": "8adc58e9-812f-432c-a913-539b5d5cae02",
   "metadata": {},
   "outputs": [
    {
     "data": {
      "application/vnd.jupyter.widget-view+json": {
       "model_id": "171726c9dcd046c0b75b0e162235dc04",
       "version_major": 2,
       "version_minor": 0
      },
      "text/plain": [
       "interactive(children=(FloatSlider(value=50.0, description='K', step=1.0), Output()), _dom_classes=('widget-int…"
      ]
     },
     "metadata": {},
     "output_type": "display_data"
    },
    {
     "data": {
      "text/plain": [
       "<function __main__.update(K)>"
      ]
     },
     "execution_count": 3,
     "metadata": {},
     "output_type": "execute_result"
    }
   ],
   "source": [
    "# Proportional control\n",
    "t = np.linspace(-1, 10, 500)\n",
    "\n",
    "def update(K):\n",
    "    fig, ax = plt.subplots()\n",
    "    w = np.sqrt(K + 1)\n",
    "    y = np.where(t < 0, 0, np.sin(w*t) / w)\n",
    "    u = np.where(t < 0, 0, -K * np.sin(w*t) / w)\n",
    "    ax.plot(t, np.where(t < 0, 0, np.sin(t)), 'k', label=\"open-loop\")\n",
    "    ax.plot(t, u, label=\"$u$\")\n",
    "    ax.plot(t, y, label=\"$y$\")\n",
    "    ax.set_title(f\"Proportional control, $K = {int(K)}$\")\n",
    "    ax.set_xlabel(\"$t$\")\n",
    "    ax.legend()\n",
    "    plt.show()\n",
    "\n",
    "interact(update, K=widgets.FloatSlider(value=50.0, min=0, max=100, step=1.0))\n"
   ]
  },
  {
   "cell_type": "code",
   "execution_count": 4,
   "id": "d41f9446-14cb-492e-922b-66865ff1eba2",
   "metadata": {},
   "outputs": [
    {
     "data": {
      "application/vnd.jupyter.widget-view+json": {
       "model_id": "3a0d5e28a9764468a67fd2d600ba9616",
       "version_major": 2,
       "version_minor": 0
      },
      "text/plain": [
       "interactive(children=(FloatSlider(value=1.5, description='K', max=2.0), Output()), _dom_classes=('widget-inter…"
      ]
     },
     "metadata": {},
     "output_type": "display_data"
    },
    {
     "data": {
      "text/plain": [
       "<function __main__.update(K)>"
      ]
     },
     "execution_count": 4,
     "metadata": {},
     "output_type": "execute_result"
    }
   ],
   "source": [
    "# Derivative control\n",
    "t = np.linspace(-1, 10, 500)\n",
    "\n",
    "def update(K):\n",
    "    fig, ax = plt.subplots()\n",
    "    a = K/2\n",
    "    w = np.sqrt(1 - a**2)\n",
    "    y = np.where(t < 0, 0, np.exp(-a*t) * np.sin(w*t) / w)\n",
    "    u = np.where(t < 0, 0, K**2 / (2*w) * np.exp(-a*t) * np.sin(w*t) - K * np.exp(-a*t) * np.cos(w*t))\n",
    "    ax.plot(t, np.where(t < 0, 0, np.sin(t)), 'k', label=\"open-loop\")\n",
    "    ax.plot(t, u, label=\"$u$\")\n",
    "    ax.plot(t, y, label=\"$y$\")\n",
    "    ax.set_title(f\"Derivative control, $K = {K:.1f}$\")\n",
    "    ax.set_xlabel(\"$t$\")\n",
    "    plt.legend()\n",
    "    plt.show()\n",
    "\n",
    "interact(update, K=widgets.FloatSlider(value=1.5, min=0, max=2, step=0.1))\n"
   ]
  },
  {
   "cell_type": "code",
   "execution_count": 5,
   "id": "232a5f80-a4c3-4318-b427-fcee0852846e",
   "metadata": {},
   "outputs": [
    {
     "data": {
      "application/vnd.jupyter.widget-view+json": {
       "model_id": "696ac4a0fcb64837b6eab9d3c0f700d2",
       "version_major": 2,
       "version_minor": 0
      },
      "text/plain": [
       "interactive(children=(FloatSlider(value=2.0, description='K_p'), Output()), _dom_classes=('widget-interact',))"
      ]
     },
     "metadata": {},
     "output_type": "display_data"
    },
    {
     "data": {
      "text/plain": [
       "<function __main__.update(K_p)>"
      ]
     },
     "execution_count": 5,
     "metadata": {},
     "output_type": "execute_result"
    }
   ],
   "source": [
    "# PD control with critical damping\n",
    "t = np.linspace(-1, 10, 500)\n",
    "\n",
    "def update(K_p):\n",
    "    fig, ax = plt.subplots()\n",
    "    y = np.where(t < 0, 0, t * np.exp(-np.sqrt(K_p + 1)*t))\n",
    "    u = np.where(t < 0, 0, ((K_p + 2)*t - 2*np.sqrt(K_p + 1)) * np.exp(-np.sqrt(K_p + 1)*t))\n",
    "    # ax.axhline(-2*np.sqrt(K_p + 1), c='C1', ls='--', label='$u(0)$')\n",
    "    ax.plot(t, u, label=\"$u$\")\n",
    "    ax.plot(t, y, label=\"$y$\")\n",
    "    ax.set_title(f\"PD control, $K_p = {K_p:.1f}, K_d = {2*np.sqrt(K_p + 1):.1f}, u(0) = {-2*np.sqrt(K_p + 1):.1f}$\")\n",
    "    ax.plot(t, np.where(t < 0, 0, np.sin(t)), 'k', label=\"open-loop\")\n",
    "    ax.set_xlabel(\"$t$\")\n",
    "    ax.legend()\n",
    "    plt.show()\n",
    "\n",
    "interact(update, K_p=widgets.FloatSlider(value=2.0, min=0, max=100, step=0.1))\n"
   ]
  },
  {
   "cell_type": "code",
   "execution_count": 6,
   "id": "e7addf87-5f68-48b7-aba5-db622eec9a3f",
   "metadata": {},
   "outputs": [
    {
     "data": {
      "application/vnd.jupyter.widget-view+json": {
       "model_id": "e5fab7ef86444dd7b69d8cd32a753e53",
       "version_major": 2,
       "version_minor": 0
      },
      "text/plain": [
       "interactive(children=(FloatSlider(value=10.0, description='K_p'), Output()), _dom_classes=('widget-interact',)…"
      ]
     },
     "metadata": {},
     "output_type": "display_data"
    },
    {
     "data": {
      "text/plain": [
       "<function __main__.update(K_p)>"
      ]
     },
     "execution_count": 6,
     "metadata": {},
     "output_type": "execute_result"
    }
   ],
   "source": [
    "# PD control with critical damping, step response\n",
    "t_ = np.linspace(-1, 10, 500)\n",
    "\n",
    "t, s, K_p, K_d = sp.S('t, s, K_p, K_d')\n",
    "G = 1/(1 + s**2)\n",
    "d = 1/s\n",
    "K = K_p + K_d*s\n",
    "y = G / (1 + K*G) * d\n",
    "u = -K * y\n",
    "y = y.subs(K_p, (K_d / 2)**2 - 1)\n",
    "u = u.subs(K_p, (K_d / 2)**2 - 1)\n",
    "y = sp.integrals.inverse_laplace_transform(y, s, t)\n",
    "u = sp.integrals.inverse_laplace_transform(u, s, t)\n",
    "y = sp.lambdify((t, K_d), y)\n",
    "u = sp.lambdify((t, K_d), u)\n",
    "ol = sp.lambdify(t, sp.integrals.inverse_laplace_transform(G * d, s, t))\n",
    "\n",
    "def update(K_p):\n",
    "    fig, ax = plt.subplots()\n",
    "    K_d = 2*np.sqrt(K_p + 1)\n",
    "    # u = np.where(t < 0, 0, ((K_p + 2)*t - 2*np.sqrt(K_p + 1)) * np.exp(-np.sqrt(K_p + 1)*t))\n",
    "    # ax.axhline(-2*np.sqrt(K_p + 1), c='C1', ls='--', label='$u(0)$')\n",
    "    # ax.plot(t, u, label=\"$u$\")\n",
    "    ax.plot(t_, u(t_, K_d*np.ones_like(t_)), label=\"$u$\")\n",
    "    ax.plot(t_, y(t_, K_d*np.ones_like(t_)), label=\"$y$\")\n",
    "    ax.set_title(f\"PD control, $K_p = {K_p:.1f}, K_d = {2*np.sqrt(K_p + 1):.1f}, u(0) = {-2*np.sqrt(K_p + 1):.1f}$\")\n",
    "    ax.plot(t_, ol(t_), 'k', label=\"open-loop\")\n",
    "    ax.set_xlabel(\"$t$\")\n",
    "    ax.legend()\n",
    "    plt.show()\n",
    "\n",
    "interact(update, K_p=widgets.FloatSlider(value=10.0, min=0, max=100, step=0.1))\n"
   ]
  },
  {
   "cell_type": "code",
   "execution_count": 7,
   "id": "f0e3d4ef-6123-4f51-98f1-41d1fa28d206",
   "metadata": {},
   "outputs": [
    {
     "data": {
      "application/vnd.jupyter.widget-view+json": {
       "model_id": "7f29a893cdf74097803ab9fd8eaab665",
       "version_major": 2,
       "version_minor": 0
      },
      "text/plain": [
       "interactive(children=(FloatSlider(value=2.0, description='a_', max=10.0), Output()), _dom_classes=('widget-int…"
      ]
     },
     "metadata": {},
     "output_type": "display_data"
    },
    {
     "data": {
      "text/plain": [
       "<function __main__.update(a_)>"
      ]
     },
     "execution_count": 7,
     "metadata": {},
     "output_type": "execute_result"
    }
   ],
   "source": [
    "# PID control step response\n",
    "t_ = np.linspace(-1, 10, 500)\n",
    "\n",
    "t, s, K_p, K_i, K_d, a = sp.S('t, s, K_p, K_i, K_d, a')\n",
    "params = sp.solve((s + a)**3 - (s**3 + K_d*s**2 + (K_p + 1)*s + K_i), (K_p, K_i, K_d))  # Pole placement\n",
    "G = 1/(1 + s**2)\n",
    "d = 1/s\n",
    "K = K_p + K_d*s + K_i/s\n",
    "y = G / (1 + K*G) * d\n",
    "u = -K * y\n",
    "y = y.subs((k, v) for k, v in params.items())\n",
    "u = u.subs((k, v) for k, v in params.items())\n",
    "y = sp.integrals.inverse_laplace_transform(y, s, t)\n",
    "u = sp.integrals.inverse_laplace_transform(u, s, t)\n",
    "y = sp.lambdify((t, a), y)\n",
    "u = sp.lambdify((t, a), u)\n",
    "ol = sp.lambdify(t, sp.integrals.inverse_laplace_transform(G * d, s, t))\n",
    "\n",
    "def update(a_):\n",
    "    fig, ax = plt.subplots()\n",
    "    params_ = {k: v.subs(a, a_) for k, v in params.items()}\n",
    "    ax.plot(t_, u(t_, a_*np.ones_like(t_)), label=\"$u$\")\n",
    "    ax.plot(t_, y(t_, a_*np.ones_like(t_)), label=\"$y$\")\n",
    "    ax.set_title(f\"PID control, step response, $K_p = {params_[K_p]:.1f}, K_i = {params_[K_i]:.1f}, K_d = {params_[K_d]:.1f}$\")\n",
    "    ax.plot(t_, ol(t_), 'k', label=\"open-loop\")\n",
    "    ax.set_xlabel(\"$t$\")\n",
    "    ax.legend()\n",
    "    plt.show()\n",
    "\n",
    "interact(update, a_=widgets.FloatSlider(value=2.0, min=0, max=10, step=0.1))\n"
   ]
  },
  {
   "cell_type": "code",
   "execution_count": 8,
   "id": "54d6fc10-839f-4e87-b5d7-cf7c082ba63c",
   "metadata": {},
   "outputs": [
    {
     "data": {
      "application/vnd.jupyter.widget-view+json": {
       "model_id": "8a72df1e0e834d3b9eb9925216f72661",
       "version_major": 2,
       "version_minor": 0
      },
      "text/plain": [
       "interactive(children=(FloatSlider(value=2.0, description='a_', max=10.0), Output()), _dom_classes=('widget-int…"
      ]
     },
     "metadata": {},
     "output_type": "display_data"
    },
    {
     "data": {
      "text/plain": [
       "<function __main__.update(a_)>"
      ]
     },
     "execution_count": 8,
     "metadata": {},
     "output_type": "execute_result"
    }
   ],
   "source": [
    "# PID control impulse response\n",
    "t_ = np.linspace(-1, 10, 500)\n",
    "\n",
    "t, s, K_p, K_i, K_d, a = sp.S('t, s, K_p, K_i, K_d, a')\n",
    "params = sp.solve((s + a)**3 - (s**3 + K_d*s**2 + (K_p + 1)*s + K_i), (K_p, K_i, K_d))  # Pole placement\n",
    "G = 1/(1 + s**2)\n",
    "d = 1\n",
    "K = K_p + K_d*s + K_i/s\n",
    "y = G / (1 + K*G) * d\n",
    "u = -K * y\n",
    "y = y.subs((k, v) for k, v in params.items())\n",
    "u = u.subs((k, v) for k, v in params.items())\n",
    "y = sp.integrals.inverse_laplace_transform(y, s, t)\n",
    "u = sp.integrals.inverse_laplace_transform(u, s, t)\n",
    "y = sp.lambdify((t, a), y)\n",
    "u = sp.lambdify((t, a), u)\n",
    "ol = sp.lambdify(t, sp.integrals.inverse_laplace_transform(G * d, s, t))\n",
    "\n",
    "def update(a_):\n",
    "    fig, ax = plt.subplots()\n",
    "    params_ = {k: v.subs(a, a_) for k, v in params.items()}\n",
    "    ax.plot(t_, u(t_, a_*np.ones_like(t_)), label=\"$u$\")\n",
    "    ax.plot(t_, y(t_, a_*np.ones_like(t_)), label=\"$y$\")\n",
    "    ax.set_title(f\"PID control, impulse response, $K_p = {params_[K_p]:.1f}, K_i = {params_[K_i]:.1f}, K_d = {params_[K_d]:.1f}$\")\n",
    "    ax.plot(t_, ol(t_), 'k', label=\"open-loop\")\n",
    "    ax.set_xlabel(\"$t$\")\n",
    "    ax.legend()\n",
    "    plt.show()\n",
    "\n",
    "interact(update, a_=widgets.FloatSlider(value=2.0, min=0, max=10, step=0.1))\n"
   ]
  }
 ],
 "metadata": {
  "kernelspec": {
   "display_name": "Python 3 (ipykernel)",
   "language": "python",
   "name": "python3"
  },
  "language_info": {
   "codemirror_mode": {
    "name": "ipython",
    "version": 3
   },
   "file_extension": ".py",
   "mimetype": "text/x-python",
   "name": "python",
   "nbconvert_exporter": "python",
   "pygments_lexer": "ipython3",
   "version": "3.10.4"
  }
 },
 "nbformat": 4,
 "nbformat_minor": 5
}
